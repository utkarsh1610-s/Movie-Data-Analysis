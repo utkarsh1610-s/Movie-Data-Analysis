{
 "cells": [
  {
   "cell_type": "markdown",
   "id": "80ce8ad3",
   "metadata": {},
   "source": [
    "# COVID-19 Infection Prediction Project"
   ]
  },
  {
   "cell_type": "code",
   "execution_count": null,
   "id": "9c697283",
   "metadata": {},
   "outputs": [],
   "source": [
    "import pandas as pd\n",
    "import seaborn as sns\n",
    "import matplotlib.pyplot as plt\n",
    "from sklearn.model_selection import train_test_split\n",
    "from sklearn.preprocessing import LabelEncoder, StandardScaler\n",
    "from sklearn.ensemble import RandomForestClassifier\n",
    "from sklearn.metrics import classification_report, confusion_matrix, roc_auc_score"
   ]
  },
  {
   "cell_type": "markdown",
   "id": "88d417a0",
   "metadata": {},
   "source": [
    "## Step 1: Load Data"
   ]
  },
  {
   "cell_type": "code",
   "execution_count": null,
   "id": "0a52f329",
   "metadata": {},
   "outputs": [],
   "source": [
    "df = pd.read_csv('realistic_covid_prediction_dataset.csv')\n",
    "df.head()"
   ]
  },
  {
   "cell_type": "markdown",
   "id": "444804e3",
   "metadata": {},
   "source": [
    "## Step 2: EDA"
   ]
  },
  {
   "cell_type": "code",
   "execution_count": null,
   "id": "bc9d353f",
   "metadata": {},
   "outputs": [],
   "source": [
    "sns.histplot(df['oxygen_saturation'], bins=10)\n",
    "plt.title('Oxygen Saturation Distribution')\n",
    "plt.show()\n",
    "\n",
    "sns.boxplot(x='covid_test_result', y='body_temperature', data=df)\n",
    "plt.title('Body Temp vs COVID Result')\n",
    "plt.show()"
   ]
  },
  {
   "cell_type": "markdown",
   "id": "5ffc3688",
   "metadata": {},
   "source": [
    "## Step 3: Preprocessing"
   ]
  },
  {
   "cell_type": "code",
   "execution_count": null,
   "id": "ee255166",
   "metadata": {},
   "outputs": [],
   "source": [
    "data = df.copy()\n",
    "label_encoders = {}\n",
    "for col in ['sex', 'vaccination_status', 'covid_test_result']:\n",
    "    le = LabelEncoder()\n",
    "    data[col] = le.fit_transform(data[col])\n",
    "    label_encoders[col] = le\n",
    "\n",
    "X = data.drop('covid_test_result', axis=1)\n",
    "y = data['covid_test_result']\n",
    "\n",
    "X_train, X_test, y_train, y_test = train_test_split(X, y, test_size=0.2, random_state=42)\n",
    "\n",
    "scaler = StandardScaler()\n",
    "X_train_scaled = scaler.fit_transform(X_train)\n",
    "X_test_scaled = scaler.transform(X_test)"
   ]
  },
  {
   "cell_type": "markdown",
   "id": "693724ee",
   "metadata": {},
   "source": [
    "## Step 4: Model Training"
   ]
  },
  {
   "cell_type": "code",
   "execution_count": null,
   "id": "e1d8c0d8",
   "metadata": {},
   "outputs": [],
   "source": [
    "model = RandomForestClassifier(random_state=42)\n",
    "model.fit(X_train_scaled, y_train)"
   ]
  },
  {
   "cell_type": "markdown",
   "id": "ff307950",
   "metadata": {},
   "source": [
    "## Step 5: Evaluation"
   ]
  },
  {
   "cell_type": "code",
   "execution_count": null,
   "id": "f8c872f0",
   "metadata": {},
   "outputs": [],
   "source": [
    "y_pred = model.predict(X_test_scaled)\n",
    "y_proba = model.predict_proba(X_test_scaled)[:, 1]\n",
    "\n",
    "print(classification_report(y_test, y_pred))\n",
    "print(\"ROC-AUC Score:\", roc_auc_score(y_test, y_proba))\n",
    "\n",
    "conf_matrix = confusion_matrix(y_test, y_pred)\n",
    "sns.heatmap(conf_matrix, annot=True, fmt=\"d\", cmap=\"Blues\",\n",
    "            xticklabels=label_encoders['covid_test_result'].classes_,\n",
    "            yticklabels=label_encoders['covid_test_result'].classes_)\n",
    "plt.xlabel(\"Predicted\")\n",
    "plt.ylabel(\"Actual\")\n",
    "plt.title(\"Confusion Matrix\")\n",
    "plt.show()"
   ]
  }
 ],
 "metadata": {},
 "nbformat": 4,
 "nbformat_minor": 5
}