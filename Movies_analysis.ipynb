{
 "cells": [
  {
   "cell_type": "code",
   "execution_count": 67,
   "id": "a6f5fe60-d82e-4a56-a6b7-977a8c7934c5",
   "metadata": {
    "jupyter": {
     "source_hidden": true
    }
   },
   "outputs": [],
   "source": [
    "import numpy as np\n",
    "import pandas as pd"
   ]
  },
  {
   "cell_type": "code",
   "execution_count": 68,
   "id": "f4bdc17f-d8f9-44a3-96d1-f2a3dc4211ae",
   "metadata": {
    "collapsed": true,
    "jupyter": {
     "outputs_hidden": true,
     "source_hidden": true
    }
   },
   "outputs": [
    {
     "data": {
      "text/html": [
       "<div>\n",
       "<style scoped>\n",
       "    .dataframe tbody tr th:only-of-type {\n",
       "        vertical-align: middle;\n",
       "    }\n",
       "\n",
       "    .dataframe tbody tr th {\n",
       "        vertical-align: top;\n",
       "    }\n",
       "\n",
       "    .dataframe thead th {\n",
       "        text-align: right;\n",
       "    }\n",
       "</style>\n",
       "<table border=\"1\" class=\"dataframe\">\n",
       "  <thead>\n",
       "    <tr style=\"text-align: right;\">\n",
       "      <th></th>\n",
       "      <th>Film</th>\n",
       "      <th>Released_Year</th>\n",
       "      <th>Released_month</th>\n",
       "      <th>Director</th>\n",
       "      <th>Cast_1</th>\n",
       "      <th>Cast_2</th>\n",
       "      <th>Genre_1</th>\n",
       "      <th>Genre_2</th>\n",
       "      <th>IMDB_Ratings</th>\n",
       "      <th>IMDB_Users</th>\n",
       "      <th>Budget_in_crore(INR)</th>\n",
       "      <th>Worldwide_box_office_gross_in_crore(INR)</th>\n",
       "    </tr>\n",
       "  </thead>\n",
       "  <tbody>\n",
       "    <tr>\n",
       "      <th>0</th>\n",
       "      <td>Baby</td>\n",
       "      <td>2015.0</td>\n",
       "      <td>January</td>\n",
       "      <td>Neeraj Pandey</td>\n",
       "      <td>Akshay Kumar</td>\n",
       "      <td>Danny Denzongpa</td>\n",
       "      <td>Action</td>\n",
       "      <td>Thriller</td>\n",
       "      <td>8</td>\n",
       "      <td>56882.0</td>\n",
       "      <td>58.97</td>\n",
       "      <td>142.99</td>\n",
       "    </tr>\n",
       "    <tr>\n",
       "      <th>1</th>\n",
       "      <td>Dolly Ki Doli</td>\n",
       "      <td>2015.0</td>\n",
       "      <td>January</td>\n",
       "      <td>Abhishek Dogra</td>\n",
       "      <td>\\tSonam Kapoor</td>\n",
       "      <td>Pulkit Samrat</td>\n",
       "      <td>Comedy</td>\n",
       "      <td>NaN</td>\n",
       "      <td>4.5</td>\n",
       "      <td>3052.0</td>\n",
       "      <td>21.00</td>\n",
       "      <td>19.21</td>\n",
       "    </tr>\n",
       "    <tr>\n",
       "      <th>2</th>\n",
       "      <td>Rahasya</td>\n",
       "      <td>2015.0</td>\n",
       "      <td>January</td>\n",
       "      <td>Manish Gupta</td>\n",
       "      <td>Kay Kay Menon</td>\n",
       "      <td>Ashish Vidyarthi</td>\n",
       "      <td>Social</td>\n",
       "      <td>NaN</td>\n",
       "      <td>7.6</td>\n",
       "      <td>4856.0</td>\n",
       "      <td>6.00</td>\n",
       "      <td>2.80</td>\n",
       "    </tr>\n",
       "    <tr>\n",
       "      <th>3</th>\n",
       "      <td>Khamoshiyan</td>\n",
       "      <td>2015.0</td>\n",
       "      <td>January</td>\n",
       "      <td>Karan Darra</td>\n",
       "      <td>\\tGurmeet Choudhary</td>\n",
       "      <td>Ali Fazal</td>\n",
       "      <td>Drama</td>\n",
       "      <td>NaN</td>\n",
       "      <td>4</td>\n",
       "      <td>1315.0</td>\n",
       "      <td>10.00</td>\n",
       "      <td>14.00</td>\n",
       "    </tr>\n",
       "    <tr>\n",
       "      <th>4</th>\n",
       "      <td>Sharafat Gayi Tel Lene</td>\n",
       "      <td>2015.0</td>\n",
       "      <td>January</td>\n",
       "      <td>Gurmmeet Singh</td>\n",
       "      <td>Zayed Khan</td>\n",
       "      <td>Tena Desae</td>\n",
       "      <td>Comedy</td>\n",
       "      <td>NaN</td>\n",
       "      <td>5</td>\n",
       "      <td>287.0</td>\n",
       "      <td>7.00</td>\n",
       "      <td>0.57</td>\n",
       "    </tr>\n",
       "  </tbody>\n",
       "</table>\n",
       "</div>"
      ],
      "text/plain": [
       "                     Film  Released_Year Released_month        Director  \\\n",
       "0                    Baby         2015.0        January   Neeraj Pandey   \n",
       "1           Dolly Ki Doli         2015.0        January  Abhishek Dogra   \n",
       "2                 Rahasya         2015.0        January    Manish Gupta   \n",
       "3             Khamoshiyan         2015.0        January     Karan Darra   \n",
       "4  Sharafat Gayi Tel Lene         2015.0        January  Gurmmeet Singh   \n",
       "\n",
       "                Cast_1            Cast_2 Genre_1   Genre_2 IMDB_Ratings  \\\n",
       "0         Akshay Kumar   Danny Denzongpa  Action  Thriller            8   \n",
       "1       \\tSonam Kapoor     Pulkit Samrat  Comedy       NaN          4.5   \n",
       "2        Kay Kay Menon  Ashish Vidyarthi  Social       NaN          7.6   \n",
       "3  \\tGurmeet Choudhary         Ali Fazal   Drama       NaN            4   \n",
       "4           Zayed Khan        Tena Desae  Comedy       NaN            5   \n",
       "\n",
       "   IMDB_Users  Budget_in_crore(INR)  Worldwide_box_office_gross_in_crore(INR)  \n",
       "0     56882.0                 58.97                                    142.99  \n",
       "1      3052.0                 21.00                                     19.21  \n",
       "2      4856.0                  6.00                                      2.80  \n",
       "3      1315.0                 10.00                                     14.00  \n",
       "4       287.0                  7.00                                      0.57  "
      ]
     },
     "execution_count": 68,
     "metadata": {},
     "output_type": "execute_result"
    }
   ],
   "source": [
    "df = pd.read_csv('bollywood_dataset.csv')\n",
    "df.head()"
   ]
  },
  {
   "cell_type": "code",
   "execution_count": 69,
   "id": "97176ad6-1dc6-4c22-89a4-a202e0c66b51",
   "metadata": {
    "collapsed": true,
    "jupyter": {
     "outputs_hidden": true,
     "source_hidden": true
    },
    "scrolled": true
   },
   "outputs": [
    {
     "data": {
      "text/html": [
       "<div>\n",
       "<style scoped>\n",
       "    .dataframe tbody tr th:only-of-type {\n",
       "        vertical-align: middle;\n",
       "    }\n",
       "\n",
       "    .dataframe tbody tr th {\n",
       "        vertical-align: top;\n",
       "    }\n",
       "\n",
       "    .dataframe thead th {\n",
       "        text-align: right;\n",
       "    }\n",
       "</style>\n",
       "<table border=\"1\" class=\"dataframe\">\n",
       "  <thead>\n",
       "    <tr style=\"text-align: right;\">\n",
       "      <th></th>\n",
       "      <th>Film</th>\n",
       "      <th>Released_Year</th>\n",
       "      <th>Released_month</th>\n",
       "      <th>Director</th>\n",
       "      <th>Cast_1</th>\n",
       "      <th>Cast_2</th>\n",
       "      <th>Genre_1</th>\n",
       "      <th>IMDB_Ratings</th>\n",
       "      <th>IMDB_Users</th>\n",
       "      <th>Budget_in_crore(INR)</th>\n",
       "      <th>Worldwide_box_office_gross_in_crore(INR)</th>\n",
       "    </tr>\n",
       "  </thead>\n",
       "  <tbody>\n",
       "    <tr>\n",
       "      <th>0</th>\n",
       "      <td>Baby</td>\n",
       "      <td>2015.0</td>\n",
       "      <td>January</td>\n",
       "      <td>Neeraj Pandey</td>\n",
       "      <td>Akshay Kumar</td>\n",
       "      <td>Danny Denzongpa</td>\n",
       "      <td>Action</td>\n",
       "      <td>8</td>\n",
       "      <td>56882.0</td>\n",
       "      <td>58.97</td>\n",
       "      <td>142.99</td>\n",
       "    </tr>\n",
       "    <tr>\n",
       "      <th>1</th>\n",
       "      <td>Dolly Ki Doli</td>\n",
       "      <td>2015.0</td>\n",
       "      <td>January</td>\n",
       "      <td>Abhishek Dogra</td>\n",
       "      <td>\\tSonam Kapoor</td>\n",
       "      <td>Pulkit Samrat</td>\n",
       "      <td>Comedy</td>\n",
       "      <td>4.5</td>\n",
       "      <td>3052.0</td>\n",
       "      <td>21.00</td>\n",
       "      <td>19.21</td>\n",
       "    </tr>\n",
       "    <tr>\n",
       "      <th>2</th>\n",
       "      <td>Rahasya</td>\n",
       "      <td>2015.0</td>\n",
       "      <td>January</td>\n",
       "      <td>Manish Gupta</td>\n",
       "      <td>Kay Kay Menon</td>\n",
       "      <td>Ashish Vidyarthi</td>\n",
       "      <td>Social</td>\n",
       "      <td>7.6</td>\n",
       "      <td>4856.0</td>\n",
       "      <td>6.00</td>\n",
       "      <td>2.80</td>\n",
       "    </tr>\n",
       "    <tr>\n",
       "      <th>3</th>\n",
       "      <td>Khamoshiyan</td>\n",
       "      <td>2015.0</td>\n",
       "      <td>January</td>\n",
       "      <td>Karan Darra</td>\n",
       "      <td>\\tGurmeet Choudhary</td>\n",
       "      <td>Ali Fazal</td>\n",
       "      <td>Drama</td>\n",
       "      <td>4</td>\n",
       "      <td>1315.0</td>\n",
       "      <td>10.00</td>\n",
       "      <td>14.00</td>\n",
       "    </tr>\n",
       "    <tr>\n",
       "      <th>4</th>\n",
       "      <td>Sharafat Gayi Tel Lene</td>\n",
       "      <td>2015.0</td>\n",
       "      <td>January</td>\n",
       "      <td>Gurmmeet Singh</td>\n",
       "      <td>Zayed Khan</td>\n",
       "      <td>Tena Desae</td>\n",
       "      <td>Comedy</td>\n",
       "      <td>5</td>\n",
       "      <td>287.0</td>\n",
       "      <td>7.00</td>\n",
       "      <td>0.57</td>\n",
       "    </tr>\n",
       "  </tbody>\n",
       "</table>\n",
       "</div>"
      ],
      "text/plain": [
       "                     Film  Released_Year Released_month        Director  \\\n",
       "0                    Baby         2015.0        January   Neeraj Pandey   \n",
       "1           Dolly Ki Doli         2015.0        January  Abhishek Dogra   \n",
       "2                 Rahasya         2015.0        January    Manish Gupta   \n",
       "3             Khamoshiyan         2015.0        January     Karan Darra   \n",
       "4  Sharafat Gayi Tel Lene         2015.0        January  Gurmmeet Singh   \n",
       "\n",
       "                Cast_1            Cast_2 Genre_1 IMDB_Ratings  IMDB_Users  \\\n",
       "0         Akshay Kumar   Danny Denzongpa  Action            8     56882.0   \n",
       "1       \\tSonam Kapoor     Pulkit Samrat  Comedy          4.5      3052.0   \n",
       "2        Kay Kay Menon  Ashish Vidyarthi  Social          7.6      4856.0   \n",
       "3  \\tGurmeet Choudhary         Ali Fazal   Drama            4      1315.0   \n",
       "4           Zayed Khan        Tena Desae  Comedy            5       287.0   \n",
       "\n",
       "   Budget_in_crore(INR)  Worldwide_box_office_gross_in_crore(INR)  \n",
       "0                 58.97                                    142.99  \n",
       "1                 21.00                                     19.21  \n",
       "2                  6.00                                      2.80  \n",
       "3                 10.00                                     14.00  \n",
       "4                  7.00                                      0.57  "
      ]
     },
     "execution_count": 69,
     "metadata": {},
     "output_type": "execute_result"
    }
   ],
   "source": [
    "data = df.copy()\n",
    "data = data.drop('Genre_2', axis=1)\n",
    "data.head()"
   ]
  },
  {
   "cell_type": "code",
   "execution_count": 70,
   "id": "b8f4f657-810c-41c9-9152-00fd44fe1b9a",
   "metadata": {
    "jupyter": {
     "source_hidden": true
    }
   },
   "outputs": [],
   "source": [
    "data = data[data['Budget_in_crore(INR)'] != 'null']\n",
    "data = data[data['Worldwide_box_office_gross_in_crore(INR)'] != 'null']"
   ]
  },
  {
   "cell_type": "code",
   "execution_count": 71,
   "id": "672017a5-0f66-4134-bab9-02925d9af4ec",
   "metadata": {
    "jupyter": {
     "source_hidden": true
    }
   },
   "outputs": [],
   "source": [
    "data = data.dropna()"
   ]
  },
  {
   "cell_type": "code",
   "execution_count": 72,
   "id": "5c838e2b-c4e6-4ac1-ae17-934646bad79f",
   "metadata": {
    "collapsed": true,
    "jupyter": {
     "outputs_hidden": true,
     "source_hidden": true
    }
   },
   "outputs": [
    {
     "data": {
      "text/html": [
       "<div>\n",
       "<style scoped>\n",
       "    .dataframe tbody tr th:only-of-type {\n",
       "        vertical-align: middle;\n",
       "    }\n",
       "\n",
       "    .dataframe tbody tr th {\n",
       "        vertical-align: top;\n",
       "    }\n",
       "\n",
       "    .dataframe thead th {\n",
       "        text-align: right;\n",
       "    }\n",
       "</style>\n",
       "<table border=\"1\" class=\"dataframe\">\n",
       "  <thead>\n",
       "    <tr style=\"text-align: right;\">\n",
       "      <th></th>\n",
       "      <th>Film</th>\n",
       "      <th>Released_Year</th>\n",
       "      <th>Released_month</th>\n",
       "      <th>Director</th>\n",
       "      <th>Cast_1</th>\n",
       "      <th>Cast_2</th>\n",
       "      <th>Genre_1</th>\n",
       "      <th>IMDB_Ratings</th>\n",
       "      <th>IMDB_Users</th>\n",
       "      <th>Budget_in_crore(INR)</th>\n",
       "      <th>Worldwide_box_office_gross_in_crore(INR)</th>\n",
       "    </tr>\n",
       "  </thead>\n",
       "  <tbody>\n",
       "    <tr>\n",
       "      <th>673</th>\n",
       "      <td>Sooryavanshi</td>\n",
       "      <td>2021.0</td>\n",
       "      <td>November</td>\n",
       "      <td>Rohit Shetty</td>\n",
       "      <td>Akshay Kumar</td>\n",
       "      <td>Katrina Kaif</td>\n",
       "      <td>Action</td>\n",
       "      <td>6.9</td>\n",
       "      <td>74999.0</td>\n",
       "      <td>250.0</td>\n",
       "      <td>298.84</td>\n",
       "    </tr>\n",
       "    <tr>\n",
       "      <th>675</th>\n",
       "      <td>83 (2021)</td>\n",
       "      <td>2021.0</td>\n",
       "      <td>December</td>\n",
       "      <td>Kabir Khan</td>\n",
       "      <td>Ranveer Singh</td>\n",
       "      <td>Jeeva</td>\n",
       "      <td>Biography</td>\n",
       "      <td>7.7</td>\n",
       "      <td>31683.0</td>\n",
       "      <td>260.0</td>\n",
       "      <td>186.97</td>\n",
       "    </tr>\n",
       "    <tr>\n",
       "      <th>680</th>\n",
       "      <td>Chandigarh Kare Aashiqui</td>\n",
       "      <td>2021.0</td>\n",
       "      <td>December</td>\n",
       "      <td>Abhishek Kapoor</td>\n",
       "      <td>Ayushmann Khurrana</td>\n",
       "      <td>Vaani Kapoor</td>\n",
       "      <td>Drama</td>\n",
       "      <td>6.9</td>\n",
       "      <td>12303.0</td>\n",
       "      <td>39.0</td>\n",
       "      <td>38.57</td>\n",
       "    </tr>\n",
       "    <tr>\n",
       "      <th>681</th>\n",
       "      <td>Velle</td>\n",
       "      <td>2021.0</td>\n",
       "      <td>December</td>\n",
       "      <td>Deven Munjal</td>\n",
       "      <td>Abhay Deol</td>\n",
       "      <td>Karan Deol</td>\n",
       "      <td>Drama</td>\n",
       "      <td>7.2</td>\n",
       "      <td>4647.0</td>\n",
       "      <td>11.0</td>\n",
       "      <td>0.59</td>\n",
       "    </tr>\n",
       "    <tr>\n",
       "      <th>682</th>\n",
       "      <td>Tadap</td>\n",
       "      <td>2021.0</td>\n",
       "      <td>December</td>\n",
       "      <td>Milan Luthria</td>\n",
       "      <td>Ahan Shetty</td>\n",
       "      <td>Tara Sutaria</td>\n",
       "      <td>Action</td>\n",
       "      <td>5.6</td>\n",
       "      <td>4096.0</td>\n",
       "      <td>27.0</td>\n",
       "      <td>34.85</td>\n",
       "    </tr>\n",
       "  </tbody>\n",
       "</table>\n",
       "</div>"
      ],
      "text/plain": [
       "                         Film  Released_Year Released_month         Director  \\\n",
       "673              Sooryavanshi         2021.0       November     Rohit Shetty   \n",
       "675                 83 (2021)         2021.0       December       Kabir Khan   \n",
       "680  Chandigarh Kare Aashiqui         2021.0       December  Abhishek Kapoor   \n",
       "681                     Velle         2021.0       December     Deven Munjal   \n",
       "682                     Tadap         2021.0       December    Milan Luthria   \n",
       "\n",
       "                 Cast_1         Cast_2    Genre_1 IMDB_Ratings  IMDB_Users  \\\n",
       "673        Akshay Kumar   Katrina Kaif     Action          6.9     74999.0   \n",
       "675       Ranveer Singh          Jeeva  Biography          7.7     31683.0   \n",
       "680  Ayushmann Khurrana   Vaani Kapoor      Drama          6.9     12303.0   \n",
       "681          Abhay Deol     Karan Deol      Drama          7.2      4647.0   \n",
       "682         Ahan Shetty   Tara Sutaria     Action          5.6      4096.0   \n",
       "\n",
       "     Budget_in_crore(INR)  Worldwide_box_office_gross_in_crore(INR)  \n",
       "673                 250.0                                    298.84  \n",
       "675                 260.0                                    186.97  \n",
       "680                  39.0                                     38.57  \n",
       "681                  11.0                                      0.59  \n",
       "682                  27.0                                     34.85  "
      ]
     },
     "execution_count": 72,
     "metadata": {},
     "output_type": "execute_result"
    }
   ],
   "source": [
    "data.tail()"
   ]
  },
  {
   "cell_type": "code",
   "execution_count": 73,
   "id": "54ffd736-925b-4a6f-b91a-eee5548edda7",
   "metadata": {
    "jupyter": {
     "source_hidden": true
    }
   },
   "outputs": [],
   "source": [
    "def calculate_verdict(data):\n",
    "    p_l = (data['Worldwide_box_office_gross_in_crore(INR)']-data['Budget_in_crore(INR)'])/data['Worldwide_box_office_gross_in_crore(INR)']\n",
    "    data['P/L'] = (p_l*100)\n",
    "    if p_l >= 0:\n",
    "        if p_l <=0.2:\n",
    "            data['Verdict'] = 'Average'\n",
    "        elif p_l <= 0.4:\n",
    "            data['Verdict'] = 'Hit'\n",
    "        elif p_l <= 0.6:\n",
    "            data['Verdict'] = 'Super-Hit'\n",
    "        else:\n",
    "            data['Verdict'] = 'Blockbuster'\n",
    "    else:\n",
    "        if p_l >= -0.3:\n",
    "            data['Verdict'] = 'Flop'\n",
    "        else:\n",
    "            data['Verdict'] = 'Disaster'\n",
    "    return data\n",
    "data = data.apply(calculate_verdict, axis=1)"
   ]
  },
  {
   "cell_type": "code",
   "execution_count": 74,
   "id": "ee6dbcde-0251-42d5-9770-f834fe2a4826",
   "metadata": {
    "collapsed": true,
    "jupyter": {
     "outputs_hidden": true,
     "source_hidden": true
    },
    "scrolled": true
   },
   "outputs": [
    {
     "data": {
      "text/html": [
       "<div>\n",
       "<style scoped>\n",
       "    .dataframe tbody tr th:only-of-type {\n",
       "        vertical-align: middle;\n",
       "    }\n",
       "\n",
       "    .dataframe tbody tr th {\n",
       "        vertical-align: top;\n",
       "    }\n",
       "\n",
       "    .dataframe thead th {\n",
       "        text-align: right;\n",
       "    }\n",
       "</style>\n",
       "<table border=\"1\" class=\"dataframe\">\n",
       "  <thead>\n",
       "    <tr style=\"text-align: right;\">\n",
       "      <th></th>\n",
       "      <th>Film</th>\n",
       "      <th>Released_Year</th>\n",
       "      <th>Released_month</th>\n",
       "      <th>Director</th>\n",
       "      <th>Cast_1</th>\n",
       "      <th>Cast_2</th>\n",
       "      <th>Genre_1</th>\n",
       "      <th>IMDB_Ratings</th>\n",
       "      <th>IMDB_Users</th>\n",
       "      <th>Budget_in_crore(INR)</th>\n",
       "      <th>Worldwide_box_office_gross_in_crore(INR)</th>\n",
       "      <th>P/L</th>\n",
       "      <th>Verdict</th>\n",
       "    </tr>\n",
       "  </thead>\n",
       "  <tbody>\n",
       "    <tr>\n",
       "      <th>0</th>\n",
       "      <td>Baby</td>\n",
       "      <td>2015.0</td>\n",
       "      <td>January</td>\n",
       "      <td>Neeraj Pandey</td>\n",
       "      <td>Akshay Kumar</td>\n",
       "      <td>Danny Denzongpa</td>\n",
       "      <td>Action</td>\n",
       "      <td>8</td>\n",
       "      <td>56882.0</td>\n",
       "      <td>58.97</td>\n",
       "      <td>142.99</td>\n",
       "      <td>58.759354</td>\n",
       "      <td>Super-Hit</td>\n",
       "    </tr>\n",
       "    <tr>\n",
       "      <th>1</th>\n",
       "      <td>Dolly Ki Doli</td>\n",
       "      <td>2015.0</td>\n",
       "      <td>January</td>\n",
       "      <td>Abhishek Dogra</td>\n",
       "      <td>\\tSonam Kapoor</td>\n",
       "      <td>Pulkit Samrat</td>\n",
       "      <td>Comedy</td>\n",
       "      <td>4.5</td>\n",
       "      <td>3052.0</td>\n",
       "      <td>21.00</td>\n",
       "      <td>19.21</td>\n",
       "      <td>-9.318064</td>\n",
       "      <td>Flop</td>\n",
       "    </tr>\n",
       "    <tr>\n",
       "      <th>2</th>\n",
       "      <td>Rahasya</td>\n",
       "      <td>2015.0</td>\n",
       "      <td>January</td>\n",
       "      <td>Manish Gupta</td>\n",
       "      <td>Kay Kay Menon</td>\n",
       "      <td>Ashish Vidyarthi</td>\n",
       "      <td>Social</td>\n",
       "      <td>7.6</td>\n",
       "      <td>4856.0</td>\n",
       "      <td>6.00</td>\n",
       "      <td>2.80</td>\n",
       "      <td>-114.285714</td>\n",
       "      <td>Disaster</td>\n",
       "    </tr>\n",
       "    <tr>\n",
       "      <th>3</th>\n",
       "      <td>Khamoshiyan</td>\n",
       "      <td>2015.0</td>\n",
       "      <td>January</td>\n",
       "      <td>Karan Darra</td>\n",
       "      <td>\\tGurmeet Choudhary</td>\n",
       "      <td>Ali Fazal</td>\n",
       "      <td>Drama</td>\n",
       "      <td>4</td>\n",
       "      <td>1315.0</td>\n",
       "      <td>10.00</td>\n",
       "      <td>14.00</td>\n",
       "      <td>28.571429</td>\n",
       "      <td>Hit</td>\n",
       "    </tr>\n",
       "    <tr>\n",
       "      <th>4</th>\n",
       "      <td>Sharafat Gayi Tel Lene</td>\n",
       "      <td>2015.0</td>\n",
       "      <td>January</td>\n",
       "      <td>Gurmmeet Singh</td>\n",
       "      <td>Zayed Khan</td>\n",
       "      <td>Tena Desae</td>\n",
       "      <td>Comedy</td>\n",
       "      <td>5</td>\n",
       "      <td>287.0</td>\n",
       "      <td>7.00</td>\n",
       "      <td>0.57</td>\n",
       "      <td>-1128.070175</td>\n",
       "      <td>Disaster</td>\n",
       "    </tr>\n",
       "  </tbody>\n",
       "</table>\n",
       "</div>"
      ],
      "text/plain": [
       "                     Film  Released_Year Released_month        Director  \\\n",
       "0                    Baby         2015.0        January   Neeraj Pandey   \n",
       "1           Dolly Ki Doli         2015.0        January  Abhishek Dogra   \n",
       "2                 Rahasya         2015.0        January    Manish Gupta   \n",
       "3             Khamoshiyan         2015.0        January     Karan Darra   \n",
       "4  Sharafat Gayi Tel Lene         2015.0        January  Gurmmeet Singh   \n",
       "\n",
       "                Cast_1            Cast_2 Genre_1 IMDB_Ratings  IMDB_Users  \\\n",
       "0         Akshay Kumar   Danny Denzongpa  Action            8     56882.0   \n",
       "1       \\tSonam Kapoor     Pulkit Samrat  Comedy          4.5      3052.0   \n",
       "2        Kay Kay Menon  Ashish Vidyarthi  Social          7.6      4856.0   \n",
       "3  \\tGurmeet Choudhary         Ali Fazal   Drama            4      1315.0   \n",
       "4           Zayed Khan        Tena Desae  Comedy            5       287.0   \n",
       "\n",
       "   Budget_in_crore(INR)  Worldwide_box_office_gross_in_crore(INR)  \\\n",
       "0                 58.97                                    142.99   \n",
       "1                 21.00                                     19.21   \n",
       "2                  6.00                                      2.80   \n",
       "3                 10.00                                     14.00   \n",
       "4                  7.00                                      0.57   \n",
       "\n",
       "           P/L    Verdict  \n",
       "0    58.759354  Super-Hit  \n",
       "1    -9.318064       Flop  \n",
       "2  -114.285714   Disaster  \n",
       "3    28.571429        Hit  \n",
       "4 -1128.070175   Disaster  "
      ]
     },
     "execution_count": 74,
     "metadata": {},
     "output_type": "execute_result"
    }
   ],
   "source": [
    "data.head()"
   ]
  },
  {
   "cell_type": "code",
   "execution_count": 75,
   "id": "a12170f2-599f-4697-936c-66afeea1c627",
   "metadata": {
    "collapsed": true,
    "jupyter": {
     "outputs_hidden": true,
     "source_hidden": true
    }
   },
   "outputs": [
    {
     "data": {
      "text/html": [
       "<div>\n",
       "<style scoped>\n",
       "    .dataframe tbody tr th:only-of-type {\n",
       "        vertical-align: middle;\n",
       "    }\n",
       "\n",
       "    .dataframe tbody tr th {\n",
       "        vertical-align: top;\n",
       "    }\n",
       "\n",
       "    .dataframe thead th {\n",
       "        text-align: right;\n",
       "    }\n",
       "</style>\n",
       "<table border=\"1\" class=\"dataframe\">\n",
       "  <thead>\n",
       "    <tr style=\"text-align: right;\">\n",
       "      <th></th>\n",
       "      <th>Budget_in_crore(INR)</th>\n",
       "      <th>Worldwide_box_office_gross_in_crore(INR)</th>\n",
       "    </tr>\n",
       "  </thead>\n",
       "  <tbody>\n",
       "    <tr>\n",
       "      <th>count</th>\n",
       "      <td>431.000000</td>\n",
       "      <td>431.000000</td>\n",
       "    </tr>\n",
       "    <tr>\n",
       "      <th>mean</th>\n",
       "      <td>40.026729</td>\n",
       "      <td>64.468747</td>\n",
       "    </tr>\n",
       "    <tr>\n",
       "      <th>std</th>\n",
       "      <td>45.226755</td>\n",
       "      <td>102.110039</td>\n",
       "    </tr>\n",
       "    <tr>\n",
       "      <th>min</th>\n",
       "      <td>0.800000</td>\n",
       "      <td>0.020000</td>\n",
       "    </tr>\n",
       "    <tr>\n",
       "      <th>25%</th>\n",
       "      <td>12.500000</td>\n",
       "      <td>3.725000</td>\n",
       "    </tr>\n",
       "    <tr>\n",
       "      <th>50%</th>\n",
       "      <td>25.000000</td>\n",
       "      <td>22.970000</td>\n",
       "    </tr>\n",
       "    <tr>\n",
       "      <th>75%</th>\n",
       "      <td>45.500000</td>\n",
       "      <td>83.935000</td>\n",
       "    </tr>\n",
       "    <tr>\n",
       "      <th>max</th>\n",
       "      <td>310.000000</td>\n",
       "      <td>702.480000</td>\n",
       "    </tr>\n",
       "  </tbody>\n",
       "</table>\n",
       "</div>"
      ],
      "text/plain": [
       "       Budget_in_crore(INR)  Worldwide_box_office_gross_in_crore(INR)\n",
       "count            431.000000                                431.000000\n",
       "mean              40.026729                                 64.468747\n",
       "std               45.226755                                102.110039\n",
       "min                0.800000                                  0.020000\n",
       "25%               12.500000                                  3.725000\n",
       "50%               25.000000                                 22.970000\n",
       "75%               45.500000                                 83.935000\n",
       "max              310.000000                                702.480000"
      ]
     },
     "execution_count": 75,
     "metadata": {},
     "output_type": "execute_result"
    }
   ],
   "source": [
    "data[['Budget_in_crore(INR)','Worldwide_box_office_gross_in_crore(INR)']].describe()"
   ]
  },
  {
   "cell_type": "code",
   "execution_count": 76,
   "id": "85562b69-94ac-4390-bc67-805cc1dbdd48",
   "metadata": {
    "jupyter": {
     "source_hidden": true
    }
   },
   "outputs": [],
   "source": [
    "import seaborn as sns\n",
    "import matplotlib.pyplot as plt"
   ]
  },
  {
   "cell_type": "code",
   "execution_count": 77,
   "id": "fffe3cf7-06c5-47e8-9e04-e9056273579b",
   "metadata": {
    "collapsed": true,
    "jupyter": {
     "outputs_hidden": true,
     "source_hidden": true
    }
   },
   "outputs": [
    {
     "data": {
      "text/plain": [
       "<Axes: xlabel='Budget_in_crore(INR)', ylabel='Worldwide_box_office_gross_in_crore(INR)'>"
      ]
     },
     "execution_count": 77,
     "metadata": {},
     "output_type": "execute_result"
    },
    {
     "data": {
      "image/png": "[encoded data removed]",
      "text/plain": [
       "<Figure size 640x480 with 1 Axes>"
      ]
     },
     "metadata": {},
     "output_type": "display_data"
    }
   ],
   "source": [
    "sns.scatterplot(x='Budget_in_crore(INR)', y='Worldwide_box_office_gross_in_crore(INR)', data=data)"
   ]
  },
  {
   "cell_type": "code",
   "execution_count": 78,
   "id": "a600f61e-265e-484e-adad-5ce7b7027cc5",
   "metadata": {
    "collapsed": true,
    "jupyter": {
     "outputs_hidden": true,
     "source_hidden": true
    }
   },
   "outputs": [
    {
     "name": "stdout",
     "output_type": "stream",
     "text": [
      "               Failures  Successes     Ratio\n",
      "Genre_1                                     \n",
      "Adventure             0          2       inf\n",
      "War                   0          1       inf\n",
      "Biography             7         16  2.285714\n",
      "Romance               7         11  1.571429\n",
      "Action               30         39  1.300000\n",
      "Musical               1          1  1.000000\n",
      "Sports                2          2  1.000000\n",
      "History               1          1  1.000000\n",
      "Horror                7          7  1.000000\n",
      "Thriller             12         11  0.916667\n",
      "Comedy               54         43  0.796296\n",
      "Drama                89         70  0.786517\n",
      "Social                5          2  0.400000\n",
      "Crime                 6          1  0.166667\n",
      "Black Comedy          1          0  0.000000\n",
      "Psychological         1          0  0.000000\n",
      "Mystery               1          0  0.000000\n"
     ]
    }
   ],
   "source": [
    "data['Genre_1'] = data['Genre_1'].str.strip().str.title()\n",
    "Genre_count = data.groupby(['Genre_1', 'Verdict']).size().unstack(fill_value=0)\n",
    "# Then follow with the same Genre_summary steps:\n",
    "Genre_summary = pd.DataFrame()\n",
    "Genre_summary['Failures'] = Genre_count['Flop'] + Genre_count['Disaster']\n",
    "Genre_summary['Successes'] = (Genre_count['Hit'] + \n",
    "                              Genre_count['Super-Hit'] + \n",
    "                              Genre_count['Average'] + \n",
    "                              Genre_count['Blockbuster'])\n",
    "Genre_summary['Ratio'] = Genre_summary['Successes']/Genre_summary['Failures']\n",
    "Genre_summary = Genre_summary.sort_values(by='Ratio', ascending=False)\n",
    "print(Genre_summary)"
   ]
  },
  {
   "cell_type": "code",
   "execution_count": 79,
   "id": "f83dbdbc-5bb9-417c-a690-93ea12a24b11",
   "metadata": {
    "collapsed": true,
    "jupyter": {
     "outputs_hidden": true,
     "source_hidden": true
    }
   },
   "outputs": [
    {
     "name": "stdout",
     "output_type": "stream",
     "text": [
      "Verdict        Average  Blockbuster  Disaster  Flop  Hit  Super-Hit  \\\n",
      "Released_Year                                                         \n",
      "2015.0               7           11        20     5   10          9   \n",
      "2016.0               7           10        29     8    9          8   \n",
      "2017.0               6           12        44     3   13          8   \n",
      "2018.0               7           13        43     3    9          7   \n",
      "2019.0               7           14        31     3    7          9   \n",
      "2020.0               2            2        14     4    8          5   \n",
      "2021.0               2            1        16     1    3          1   \n",
      "\n",
      "Verdict        Total_Movies  \n",
      "Released_Year                \n",
      "2015.0                   62  \n",
      "2016.0                   71  \n",
      "2017.0                   86  \n",
      "2018.0                   82  \n",
      "2019.0                   71  \n",
      "2020.0                   35  \n",
      "2021.0                   24  \n"
     ]
    }
   ],
   "source": [
    "year_verdict_table = data.groupby(['Released_Year', 'Verdict']).size().unstack(fill_value=0)\n",
    "year_verdict_table['Total_Movies'] = year_verdict_table.sum(axis=1)\n",
    "year_verdict_table = year_verdict_table.sort_index()\n",
    "print(year_verdict_table)"
   ]
  },
  {
   "cell_type": "code",
   "execution_count": 80,
   "id": "4562363f",
   "metadata": {},
   "outputs": [],
   "source": [
    "festival_months = ['October', 'December', 'January', 'June']\n",
    "data['Is_Festival_Release'] = data['Released_month'].isin(festival_months)"
   ]
  },
  {
   "cell_type": "code",
   "execution_count": 81,
   "id": "89d09118",
   "metadata": {},
   "outputs": [],
   "source": [
    "data['IMDB_Ratings'] = pd.to_numeric(data['IMDB_Ratings'], errors='coerce')\n",
    "data['Critical_Acclaim'] = (data['IMDB_Ratings'] > 7)"
   ]
  },
  {
   "cell_type": "code",
   "execution_count": null,
   "id": "87d363e4",
   "metadata": {},
   "outputs": [
    {
     "name": "stdout",
     "output_type": "stream",
     "text": [
      "              Actor  Movies  Total_Budget_Cr  Total_Collection_Cr  \\\n",
      "2        Aamir Khan       2           177.00               825.02   \n",
      "9  Deepika Padukone       2           265.00               595.72   \n",
      "1       Salman Khan      10          1536.00              3229.16   \n",
      "7     Ranbir Kapoor       6           580.00              1130.65   \n",
      "5     Ranveer Singh       5           692.00              1269.12   \n",
      "6        Ajay Devgn       8           832.00              1512.54   \n",
      "4      Akshay Kumar      18          1897.97              3363.82   \n",
      "3    Hrithik Roshan       4           552.00               906.36   \n",
      "0     Shahrukh Khan       6           847.00              1310.86   \n",
      "8  Amitabh Bachchan      11           678.00               952.88   \n",
      "\n",
      "   Collection/Movie_Cr   ROI %  AVG IMDB  \n",
      "2               412.51  366.11      8.10  \n",
      "9               297.86  124.80      6.25  \n",
      "1               322.92  110.23      4.91  \n",
      "7               188.44   94.94      5.97  \n",
      "5               253.82   83.40      6.52  \n",
      "6               189.07   81.80      6.22  \n",
      "4               186.88   77.23      6.46  \n",
      "3               226.59   64.20      6.82  \n",
      "0               218.48   54.77      6.10  \n",
      "8                86.63   40.54      6.74  \n"
     ]
    }
   ],
   "source": [
    "results = []\n",
    "actor_names = ['Shahrukh Khan', 'Salman Khan', 'Aamir Khan', 'Hrithik Roshan', 'Akshay Kumar', 'Ranveer Singh', 'Ajay Devgn', 'Ranbir Kapoor', 'Amitabh Bachchan', 'Deepika Padukone']\n",
    "for actor_name in actor_names:\n",
    "    actor_data = data[data['Cast_1'] == actor_name]\n",
    "    total_movies = actor_data.shape[0]\n",
    "    total_budget = actor_data['Budget_in_crore(INR)'].sum()\n",
    "    total_collection = actor_data['Worldwide_box_office_gross_in_crore(INR)'].sum()\n",
    "    roi = ((total_collection - total_budget) / total_budget) * 100 if total_budget > 0 else None\n",
    "    col_per_movie = total_collection / total_movies if total_movies > 0 else 0\n",
    "    cric_acclaim_avg = actor_data['IMDB_Ratings'].sum()/total_movies if total_movies > 0 else 0\n",
    "    results.append({\n",
    "        'Actor': actor_name,\n",
    "        'Movies': total_movies,\n",
    "        'Total_Budget_Cr': round(total_budget,2),\n",
    "        'Total_Collection_Cr': round(total_collection,2),\n",
    "        'Collection/Movie_Cr': round(col_per_movie,2),\n",
    "        'ROI %': round(roi,2),\n",
    "        'AVG IMDB': round(cric_acclaim_avg,2)\n",
    "    })\n",
    "actor_summary = pd.DataFrame(results)\n",
    "actor_summary = actor_summary.sort_values(by='ROI %', ascending=False)\n",
    "print(actor_summary)\n"
   ]
  },
  {
   "cell_type": "code",
   "execution_count": 83,
   "id": "85772bb5",
   "metadata": {},
   "outputs": [
    {
     "data": {
      "text/plain": [
       "<Axes: xlabel='ROI %', ylabel='Actor'>"
      ]
     },
     "execution_count": 83,
     "metadata": {},
     "output_type": "execute_result"
    },
    {
     "data": {
      "image/png": "[encoded data removed]",
      "text/plain": [
       "<Figure size 640x480 with 1 Axes>"
      ]
     },
     "metadata": {},
     "output_type": "display_data"
    }
   ],
   "source": [
    "sns.scatterplot(x='ROI %', y='Actor', data=actor_summary)"
   ]
  }
 ],
 "metadata": {
  "kernelspec": {
   "display_name": "Python 3",
   "language": "python",
   "name": "python3"
  },
  "language_info": {
   "codemirror_mode": {
    "name": "ipython",
    "version": 3
   },
   "file_extension": ".py",
   "mimetype": "text/x-python",
   "name": "python",
   "nbconvert_exporter": "python",
   "pygments_lexer": "ipython3",
   "version": "3.13.5"
  }
 },
 "nbformat": 4,
 "nbformat_minor": 5
}
